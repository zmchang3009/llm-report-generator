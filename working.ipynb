{
 "cells": [
  {
   "cell_type": "code",
   "execution_count": 1,
   "metadata": {},
   "outputs": [],
   "source": [
    "## Load environment variables\n",
    "import os\n",
    "from dotenv import load_dotenv\n",
    "\n",
    "load_dotenv()\n",
    "assert os.environ['LANGCHAIN_API_KEY'], \"Please set the LANGCHAIN_API_KEY environment variable\"\n",
    "assert os.environ['GROQ_API_KEY'], \"Please set the GROQ_API_KEY environment variable\"\n",
    "assert os.environ['OPENAI_API_KEY'], \"Please set the OPENAI_API_KEY environment variable\"\n",
    "\n",
    "DATA_DIR = \"./data\"\n",
    "DATA_CSV_PATH = DATA_DIR + \"/Fixed_Synthetic_Data.csv\""
   ]
  },
  {
   "cell_type": "code",
   "execution_count": 2,
   "metadata": {},
   "outputs": [],
   "source": [
    "## Read CSV file with LangChain\n",
    "from langchain_community.document_loaders.csv_loader import CSVLoader\n",
    "\n",
    "loader = CSVLoader(file_path=DATA_CSV_PATH)\n",
    "\n",
    "data = loader.load()"
   ]
  },
  {
   "cell_type": "code",
   "execution_count": 17,
   "metadata": {},
   "outputs": [
    {
     "name": "stdout",
     "output_type": "stream",
     "text": [
      "Inserted 5000 rows into the orders table\n",
      "Columns in table 'orders':\n",
      "[Column('Instance', TEXT(), table=<orders>), Column('OrderNo', BIGINT(), table=<orders>), Column('ParentOrderNo', BIGINT(), table=<orders>), Column('RootParentOrderNo', BIGINT(), table=<orders>), Column('CreateDate', TEXT(), table=<orders>), Column('DeleteDate', TEXT(), table=<orders>), Column('AccID', BIGINT(), table=<orders>), Column('AccCode', TEXT(), table=<orders>), Column('BuySell', TEXT(), table=<orders>), Column('Side', BIGINT(), table=<orders>), Column('OrderSide', TEXT(), table=<orders>), Column('SecID', BIGINT(), table=<orders>), Column('SecCode', TEXT(), table=<orders>), Column('Exchange', TEXT(), table=<orders>), Column('Destination', TEXT(), table=<orders>), Column('Quantity', BIGINT(), table=<orders>), Column('PriceMultiplier', FLOAT(), table=<orders>), Column('Price', FLOAT(), table=<orders>), Column('Value', FLOAT(), table=<orders>), Column('ValueMultiplier', FLOAT(), table=<orders>), Column('DoneVolume', BIGINT(), table=<orders>), Column('DoneValue', BIGINT(), table=<orders>), Column('Currency', TEXT(), table=<orders>), Column('OrderType', BIGINT(), table=<orders>), Column('PriceInstruction', TEXT(), table=<orders>), Column('TimeInForce', BIGINT(), table=<orders>), Column('Lifetime', TEXT(), table=<orders>), Column('ClientOrderID', FLOAT(), table=<orders>), Column('SecondaryClientOrderID', FLOAT(), table=<orders>), Column('DestOrderNo', BIGINT(), table=<orders>), Column('ExtDestOrderNo', TEXT(), table=<orders>), Column('DestUserID', BIGINT(), table=<orders>), Column('OrderGiver', TEXT(), table=<orders>), Column('OrderTakerUserCode', TEXT(), table=<orders>), Column('IntermediaryID', FLOAT(), table=<orders>), Column('OriginOfOrder', TEXT(), table=<orders>), Column('OrderCapacity', TEXT(), table=<orders>), Column('DirectedWholesale', TEXT(), table=<orders>), Column('ExecutionVenue', FLOAT(), table=<orders>), Column('ExecutionInstructionsRaw', TEXT(), table=<orders>)]\n",
      "Sample rows in table 'orders':\n",
      "('BURGERKING', 72372283, 55096261, 468008605, '2024-02-01 13:07:07.732746549', '2024-02-01 16:32:35.948789757', 85, 'ROBBO', 'B', 1, 'Buy', 935559491, 'BHP', 'ASX', 'CXA', 15728, 0.01, 97.8711502317468, 1314590.7225680123, 0.01, 8032, 141334, 'AUD', 4, 'Market On Close', 41, 'Good Till Cancel', 0.6932331015196366, 0.5385138399012459, 4162467638543528380, '27Y19YXOGV80', 4770, 'robbotest', 'admin@IRETEST', 71423.78372440903, 'ROBTESTING', 'Principal', 'N', 0.1487548544335256, 'IADW(N), IOCA(Agency), IAOR(39)')\n",
      "('BURGERKING', 72371760, 46567211, 651932639, '2024-02-01 16:11:11.047009401', '2024-02-01 16:37:39.237447489', 144, 'NOEL', 'B', 1, 'Short Sell', 553895436, 'NXT', 'ASX', 'CXA', 797, 0.01, 5.324241324317643, 659753.2179471112, 0.01, 4495, 799529, 'AUD', 2, 'Limit', 5, 'Good Till Cancel', 0.0791611514933622, 0.1786192353762098, 4189863424871342843, '27Y19YXOG7UF', 4468, 'robtest', 'admin@ROBBOTEST', 12599.794664530606, '39', 'Agency', 'N', 0.9349469879284428, 'IAOR(ROBTESTING), IOCA(Agency), IADW(N), IAIN(123456)')\n",
      "('BURGERKING', 72375159, 32939774, 472062144, '2024-02-01 17:10:21.384276855', '2024-02-01 17:14:02.915783156', 85, 'ROBBO', 'B', 2, 'Long Sell', 139756048, 'PEN', 'AXW', 'CXA', 13368, 0.01, 74.51024182828019, 426242.53016872704, 0.01, 10398, 1002774, 'AUD', 2, 'Limit', 7, 'Good Till Time', 0.5190673422802408, 0.5161279491970746, 2024707301487361788, '27Y19YXOG7UB', 4619, 'robtest', 'admin@ROBBOTEST', 53707.63491875145, 'NOEL', 'Principal', 'N', 0.8897626182946315, 'IAOR(TESTINGACC), IOCA(Agency), IADW(N)')\n",
      "('BURGERKING', 72371424, 5227412, 319309289, '2024-02-01 16:03:10.476495299', '2024-02-01 14:51:23.435887177', 119, 'ROBBO', 'S', 4, 'Long Sell', 1095934527, 'PEN', 'AXW', 'ASX', 15568, 0.01, 66.55438540213905, 238151.7747501917, 0.01, 10906, 1087888, 'AUD', 4, 'Market On Close', 52, 'Good Till Cancel', 0.3990165360471654, 0.6831621450403097, 999404363670857031, '27Y19YXOG7UF', 964, 'robbotest', 'admin@ROBBOTEST', 105870.73823987304, 'HK', 'Principal', 'N', 0.7377662868291097, 'IADW(N), IOCA(Agency), IAOR(NOEL), IAIN(54321)')\n",
      "('BURGERKING', 72370582, 839479, 670284316, '2024-02-01 15:50:50.005601120', '2024-02-01 18:38:37.945989197', 9, 'ZM', 'B', 2, 'Long Sell', 587836748, 'BHP', 'AXW', 'ASX', 1292, 0.01, 112.79518065217596, 1218434.9323435987, 0.01, 8947, 538567, 'AUD', 2, 'Market On Close', 25, 'Fill And Kill', 0.1937020323220124, 0.5431210908443018, 414790889495267461, '17Y19YXOID1C', 488, 'robtest', 'admin@ROBBOTEST', 29797.33673249657, 'ROBTESTING', 'Agency', 'N', 0.4995917352990389, 'IAOR(TESTINGACC), IOCA(Agency), IADW(N)')\n"
     ]
    }
   ],
   "source": [
    "## Convert CSV file to SQL file\n",
    "import pandas as pd\n",
    "from sqlalchemy import create_engine, MetaData, Table, text\n",
    "\n",
    "sqlite_db_path = DATA_DIR + \"/orders.db\"\n",
    "engine = create_engine(f\"sqlite:///{sqlite_db_path}\")\n",
    "df = pd.read_csv(DATA_CSV_PATH)\n",
    "\n",
    "with engine.connect() as conn:\n",
    "    rows = df.to_sql(name=\"orders\", con=engine, if_exists=\"replace\", index=False)\n",
    "    print(f\"Inserted {rows} rows into the orders table\")\n",
    "\n",
    "    ## Check database\n",
    "    table = Table('orders', MetaData(), autoload_with=engine)\n",
    "    print(f\"Columns in table '{table.name}':\")\n",
    "    print(table.columns.values())\n",
    "\n",
    "    rows = conn.execute(text(\"SELECT * FROM orders LIMIT 5\")).fetchall()\n",
    "    print(f\"Sample rows in table '{table.name}':\")\n",
    "    for row in rows:\n",
    "        print(row)\n",
    "\n",
    "engine.dispose()"
   ]
  },
  {
   "cell_type": "code",
   "execution_count": 18,
   "metadata": {},
   "outputs": [
    {
     "name": "stdout",
     "output_type": "stream",
     "text": [
      "['orders']\n",
      "[QuerySQLDataBaseTool(description=\"Input to this tool is a detailed and correct SQL query, output is a result from the database. If the query is not correct, an error message will be returned. If an error is returned, rewrite the query, check the query, and try again. If you encounter an issue with Unknown column 'xxxx' in 'field list', use sql_db_schema to query the correct table fields.\", db=<langchain_community.utilities.sql_database.SQLDatabase object at 0x0000010803C57090>), InfoSQLDatabaseTool(description='Input to this tool is a comma-separated list of tables, output is the schema and sample rows for those tables. Be sure that the tables actually exist by calling sql_db_list_tables first! Example Input: table1, table2, table3', db=<langchain_community.utilities.sql_database.SQLDatabase object at 0x0000010803C57090>), ListSQLDatabaseTool(db=<langchain_community.utilities.sql_database.SQLDatabase object at 0x0000010803C57090>), QuerySQLCheckerTool(description='Use this tool to double check if your query is correct before executing it. Always use this tool before executing a query with sql_db_query!', db=<langchain_community.utilities.sql_database.SQLDatabase object at 0x0000010803C57090>, llm=ChatOpenAI(client=<openai.resources.chat.completions.Completions object at 0x0000010804A323D0>, async_client=<openai.resources.chat.completions.AsyncCompletions object at 0x0000010804927A90>, root_client=<openai.OpenAI object at 0x000001080485EE50>, root_async_client=<openai.AsyncOpenAI object at 0x0000010804A32550>, model_name='gpt-4o-mini', model_kwargs={}, openai_api_key=SecretStr('**********')), llm_chain=LLMChain(verbose=False, prompt=PromptTemplate(input_variables=['dialect', 'query'], input_types={}, partial_variables={}, template='\\n{query}\\nDouble check the {dialect} query above for common mistakes, including:\\n- Using NOT IN with NULL values\\n- Using UNION when UNION ALL should have been used\\n- Using BETWEEN for exclusive ranges\\n- Data type mismatch in predicates\\n- Properly quoting identifiers\\n- Using the correct number of arguments for functions\\n- Casting to the correct data type\\n- Using the proper columns for joins\\n\\nIf there are any of the above mistakes, rewrite the query. If there are no mistakes, just reproduce the original query.\\n\\nOutput the final SQL query only.\\n\\nSQL Query: '), llm=ChatOpenAI(client=<openai.resources.chat.completions.Completions object at 0x0000010804A323D0>, async_client=<openai.resources.chat.completions.AsyncCompletions object at 0x0000010804927A90>, root_client=<openai.OpenAI object at 0x000001080485EE50>, root_async_client=<openai.AsyncOpenAI object at 0x0000010804A32550>, model_name='gpt-4o-mini', model_kwargs={}, openai_api_key=SecretStr('**********')), output_parser=StrOutputParser(), llm_kwargs={}))]\n"
     ]
    }
   ],
   "source": [
    "## Initialize LLM and SQL toolkit\n",
    "from langchain_groq import ChatGroq\n",
    "from langchain_openai import ChatOpenAI\n",
    "from langchain_community.utilities import SQLDatabase\n",
    "from langchain_community.agent_toolkits import SQLDatabaseToolkit\n",
    "\n",
    "groq_llm = ChatGroq(model=\"llama3-8b-8192\")\n",
    "openai_llm = ChatOpenAI(model=\"gpt-4o-mini\", api_key=os.environ['OPENAI_API_KEY'])\n",
    "db = SQLDatabase.from_uri(f\"sqlite:///{sqlite_db_path}\")\n",
    "print(db.get_usable_table_names())\n",
    "\n",
    "toolkit = SQLDatabaseToolkit(db=db, llm=openai_llm)\n",
    "tools = toolkit.get_tools()\n",
    "print(tools)"
   ]
  },
  {
   "cell_type": "code",
   "execution_count": 19,
   "metadata": {},
   "outputs": [],
   "source": [
    "## Initialize agent\n",
    "from langgraph.prebuilt import create_react_agent\n",
    "from langchain import hub\n",
    "\n",
    "## Prompt template for SQL agent, which contains rules for generating required SQL queries\n",
    "prompt_template = hub.pull(\"langchain-ai/sql-agent-system-prompt\")\n",
    "system_message = prompt_template.format(dialect=\"SQLite\", top_k=5)\n",
    "\n",
    "agent_executor = create_react_agent(\n",
    "    model=openai_llm, tools=tools, state_modifier=system_message\n",
    ")"
   ]
  },
  {
   "cell_type": "code",
   "execution_count": 20,
   "metadata": {},
   "outputs": [
    {
     "name": "stdout",
     "output_type": "stream",
     "text": [
      "================================\u001b[1m Human Message \u001b[0m=================================\n",
      "\n",
      "Which order had the highest quantity?\n",
      "==================================\u001b[1m Ai Message \u001b[0m==================================\n",
      "Tool Calls:\n",
      "  sql_db_list_tables (call_xAbB8XDMFjvrlxwNFje1Kyyh)\n",
      " Call ID: call_xAbB8XDMFjvrlxwNFje1Kyyh\n",
      "  Args:\n",
      "=================================\u001b[1m Tool Message \u001b[0m=================================\n",
      "Name: sql_db_list_tables\n",
      "\n",
      "orders\n",
      "==================================\u001b[1m Ai Message \u001b[0m==================================\n",
      "Tool Calls:\n",
      "  sql_db_schema (call_0jrnpjgXSBBJ4stqtM1dFSWe)\n",
      " Call ID: call_0jrnpjgXSBBJ4stqtM1dFSWe\n",
      "  Args:\n",
      "    table_names: orders\n",
      "=================================\u001b[1m Tool Message \u001b[0m=================================\n",
      "Name: sql_db_schema\n",
      "\n",
      "\n",
      "CREATE TABLE orders (\n",
      "\t\"Instance\" TEXT, \n",
      "\t\"OrderNo\" BIGINT, \n",
      "\t\"ParentOrderNo\" BIGINT, \n",
      "\t\"RootParentOrderNo\" BIGINT, \n",
      "\t\"CreateDate\" TEXT, \n",
      "\t\"DeleteDate\" TEXT, \n",
      "\t\"AccID\" BIGINT, \n",
      "\t\"AccCode\" TEXT, \n",
      "\t\"BuySell\" TEXT, \n",
      "\t\"Side\" BIGINT, \n",
      "\t\"OrderSide\" TEXT, \n",
      "\t\"SecID\" BIGINT, \n",
      "\t\"SecCode\" TEXT, \n",
      "\t\"Exchange\" TEXT, \n",
      "\t\"Destination\" TEXT, \n",
      "\t\"Quantity\" BIGINT, \n",
      "\t\"PriceMultiplier\" FLOAT, \n",
      "\t\"Price\" FLOAT, \n",
      "\t\"Value\" FLOAT, \n",
      "\t\"ValueMultiplier\" FLOAT, \n",
      "\t\"DoneVolume\" BIGINT, \n",
      "\t\"DoneValue\" BIGINT, \n",
      "\t\"Currency\" TEXT, \n",
      "\t\"OrderType\" BIGINT, \n",
      "\t\"PriceInstruction\" TEXT, \n",
      "\t\"TimeInForce\" BIGINT, \n",
      "\t\"Lifetime\" TEXT, \n",
      "\t\"ClientOrderID\" FLOAT, \n",
      "\t\"SecondaryClientOrderID\" FLOAT, \n",
      "\t\"DestOrderNo\" BIGINT, \n",
      "\t\"ExtDestOrderNo\" TEXT, \n",
      "\t\"DestUserID\" BIGINT, \n",
      "\t\"OrderGiver\" TEXT, \n",
      "\t\"OrderTakerUserCode\" TEXT, \n",
      "\t\"IntermediaryID\" FLOAT, \n",
      "\t\"OriginOfOrder\" TEXT, \n",
      "\t\"OrderCapacity\" TEXT, \n",
      "\t\"DirectedWholesale\" TEXT, \n",
      "\t\"ExecutionVenue\" FLOAT, \n",
      "\t\"ExecutionInstructionsRaw\" TEXT\n",
      ")\n",
      "\n",
      "/*\n",
      "3 rows from orders table:\n",
      "Instance\tOrderNo\tParentOrderNo\tRootParentOrderNo\tCreateDate\tDeleteDate\tAccID\tAccCode\tBuySell\tSide\tOrderSide\tSecID\tSecCode\tExchange\tDestination\tQuantity\tPriceMultiplier\tPrice\tValue\tValueMultiplier\tDoneVolume\tDoneValue\tCurrency\tOrderType\tPriceInstruction\tTimeInForce\tLifetime\tClientOrderID\tSecondaryClientOrderID\tDestOrderNo\tExtDestOrderNo\tDestUserID\tOrderGiver\tOrderTakerUserCode\tIntermediaryID\tOriginOfOrder\tOrderCapacity\tDirectedWholesale\tExecutionVenue\tExecutionInstructionsRaw\n",
      "BURGERKING\t72372283\t55096261\t468008605\t2024-02-01 13:07:07.732746549\t2024-02-01 16:32:35.948789757\t85\tROBBO\tB\t1\tBuy\t935559491\tBHP\tASX\tCXA\t15728\t0.01\t97.8711502317468\t1314590.7225680123\t0.01\t8032\t141334\tAUD\t4\tMarket On Close\t41\tGood Till Cancel\t0.6932331015196366\t0.5385138399012459\t4162467638543528380\t27Y19YXOGV80\t4770\trobbotest\tadmin@IRETEST\t71423.78372440903\tROBTESTING\tPrincipal\tN\t0.1487548544335256\tIADW(N), IOCA(Agency), IAOR(39)\n",
      "BURGERKING\t72371760\t46567211\t651932639\t2024-02-01 16:11:11.047009401\t2024-02-01 16:37:39.237447489\t144\tNOEL\tB\t1\tShort Sell\t553895436\tNXT\tASX\tCXA\t797\t0.01\t5.324241324317643\t659753.2179471112\t0.01\t4495\t799529\tAUD\t2\tLimit\t5\tGood Till Cancel\t0.0791611514933622\t0.1786192353762098\t4189863424871342843\t27Y19YXOG7UF\t4468\trobtest\tadmin@ROBBOTEST\t12599.794664530606\t39\tAgency\tN\t0.9349469879284428\tIAOR(ROBTESTING), IOCA(Agency), IADW(N), IAIN(123456)\n",
      "BURGERKING\t72375159\t32939774\t472062144\t2024-02-01 17:10:21.384276855\t2024-02-01 17:14:02.915783156\t85\tROBBO\tB\t2\tLong Sell\t139756048\tPEN\tAXW\tCXA\t13368\t0.01\t74.51024182828019\t426242.53016872704\t0.01\t10398\t1002774\tAUD\t2\tLimit\t7\tGood Till Time\t0.5190673422802408\t0.5161279491970746\t2024707301487361788\t27Y19YXOG7UB\t4619\trobtest\tadmin@ROBBOTEST\t53707.63491875145\tNOEL\tPrincipal\tN\t0.8897626182946315\tIAOR(TESTINGACC), IOCA(Agency), IADW(N)\n",
      "*/\n",
      "==================================\u001b[1m Ai Message \u001b[0m==================================\n",
      "Tool Calls:\n",
      "  sql_db_query_checker (call_5tyRSwyVMEV6lYnMehscGm1M)\n",
      " Call ID: call_5tyRSwyVMEV6lYnMehscGm1M\n",
      "  Args:\n",
      "    query: SELECT OrderNo, Quantity FROM orders ORDER BY Quantity DESC LIMIT 5;\n",
      "=================================\u001b[1m Tool Message \u001b[0m=================================\n",
      "Name: sql_db_query_checker\n",
      "\n",
      "```sql\n",
      "SELECT OrderNo, Quantity FROM orders ORDER BY Quantity DESC LIMIT 5;\n",
      "```\n",
      "==================================\u001b[1m Ai Message \u001b[0m==================================\n",
      "Tool Calls:\n",
      "  sql_db_query (call_2BXBEuzi6OGO1UOi5wKEGUhG)\n",
      " Call ID: call_2BXBEuzi6OGO1UOi5wKEGUhG\n",
      "  Args:\n",
      "    query: SELECT OrderNo, Quantity FROM orders ORDER BY Quantity DESC LIMIT 5;\n",
      "=================================\u001b[1m Tool Message \u001b[0m=================================\n",
      "Name: sql_db_query\n",
      "\n",
      "[(72374515, 15999), (72371974, 15999), (72370180, 15999), (72374133, 15998), (72370818, 15997)]\n",
      "==================================\u001b[1m Ai Message \u001b[0m==================================\n",
      "\n",
      "The orders with the highest quantities are as follows:\n",
      "\n",
      "1. OrderNo: 72374515, Quantity: 15,999\n",
      "2. OrderNo: 72371974, Quantity: 15,999\n",
      "3. OrderNo: 72370180, Quantity: 15,999\n",
      "4. OrderNo: 72374133, Quantity: 15,998\n",
      "5. OrderNo: 72370818, Quantity: 15,997\n",
      "\n",
      "The highest quantity recorded is 15,999, associated with multiple orders.\n"
     ]
    }
   ],
   "source": [
    "## Issue query\n",
    "example_query = \"Which order had the highest quantity?\"\n",
    "\n",
    "events = agent_executor.stream(\n",
    "    {\"messages\": [(\"user\", example_query)]},\n",
    "    stream_mode=\"values\",\n",
    ")\n",
    "for event in events:\n",
    "    event[\"messages\"][-1].pretty_print()"
   ]
  },
  {
   "cell_type": "code",
   "execution_count": null,
   "metadata": {},
   "outputs": [],
   "source": [
    "## Parse output"
   ]
  }
 ],
 "metadata": {
  "kernelspec": {
   "display_name": "llm_langchain",
   "language": "python",
   "name": "python3"
  },
  "language_info": {
   "codemirror_mode": {
    "name": "ipython",
    "version": 3
   },
   "file_extension": ".py",
   "mimetype": "text/x-python",
   "name": "python",
   "nbconvert_exporter": "python",
   "pygments_lexer": "ipython3",
   "version": "undefined.undefined.undefined"
  }
 },
 "nbformat": 4,
 "nbformat_minor": 2
}
